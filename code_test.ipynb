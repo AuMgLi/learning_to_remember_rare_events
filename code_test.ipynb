{
 "cells": [
  {
   "cell_type": "code",
   "execution_count": 1,
   "metadata": {
    "collapsed": true
   },
   "outputs": [],
   "source": [
    "%matplotlib inline"
   ]
  },
  {
   "cell_type": "code",
   "execution_count": 2,
   "metadata": {
    "collapsed": false
   },
   "outputs": [],
   "source": [
    "#import logging\n",
    "import os\n",
    "import random\n",
    "\n",
    "import numpy as np\n",
    "import tensorflow as tf\n",
    "\n",
    "import sys \n",
    "sys.path.append(os.path.abspath(\"/home/himani/learning_to_remember_rare_events\"))\n",
    "\n",
    "import data_utils\n",
    "import model\n",
    "\n",
    "import matplotlib.pylab as plt"
   ]
  },
  {
   "cell_type": "code",
   "execution_count": 3,
   "metadata": {
    "collapsed": false
   },
   "outputs": [],
   "source": [
    "FLAGS = tf.flags.FLAGS\n",
    "\n",
    "tf.flags.DEFINE_integer('rep_dim', 128,\n",
    "                        'dimension of keys to use in memory')\n",
    "tf.flags.DEFINE_integer('episode_length', 30, 'length of episode')\n",
    "tf.flags.DEFINE_integer('episode_width', 5,\n",
    "                        'number of distinct labels in a single episode')\n",
    "tf.flags.DEFINE_integer('memory_size', 8192, 'number of slots in memory. '\n",
    "                        'Leave as None to default to episode length')\n",
    "tf.flags.DEFINE_integer('batch_size', 16, 'batch size')\n",
    "tf.flags.DEFINE_integer('num_episodes', 100000, 'number of training episodes')\n",
    "tf.flags.DEFINE_integer('validation_frequency', 1,\n",
    "                        'every so many training episodes, '\n",
    "                        'assess validation accuracy')\n",
    "tf.flags.DEFINE_integer('validation_length', 50,\n",
    "                        'number of episodes to use to compute '\n",
    "                        'validation accuracy')\n",
    "tf.flags.DEFINE_integer('seed', 888, 'random seed for training sampling')\n",
    "tf.flags.DEFINE_string('save_dir', '', 'directory to save model to')\n",
    "tf.flags.DEFINE_bool('use_lsh', False,\n",
    "                     'use locality-sensitive hashing '\n",
    "                     '(NOTE: not fully tested)')"
   ]
  },
  {
   "cell_type": "markdown",
   "metadata": {},
   "source": [
    "### Data Exploration"
   ]
  },
  {
   "cell_type": "code",
   "execution_count": 4,
   "metadata": {
    "collapsed": false
   },
   "outputs": [],
   "source": [
    "train_data, test_data=data_utils.get_data()"
   ]
  },
  {
   "cell_type": "code",
   "execution_count": 6,
   "metadata": {
    "collapsed": false
   },
   "outputs": [
    {
     "name": "stdout",
     "output_type": "stream",
     "text": [
      "Number of train unique classes: 3856\n",
      "Number of test unique classes: 659\n"
     ]
    }
   ],
   "source": [
    "print('Number of train unique classes: %d'%len(train_data))\n",
    "print('Number of test unique classes: %d'%len(test_data))"
   ]
  },
  {
   "cell_type": "code",
   "execution_count": 7,
   "metadata": {
    "collapsed": true
   },
   "outputs": [],
   "source": [
    "np.random.seed(100)"
   ]
  },
  {
   "cell_type": "code",
   "execution_count": 11,
   "metadata": {
    "collapsed": false
   },
   "outputs": [
    {
     "name": "stdout",
     "output_type": "stream",
     "text": [
      "3810\n",
      "3963\n"
     ]
    }
   ],
   "source": [
    "i=np.random.choice(train_data.keys())\n",
    "print(i)\n",
    "j=np.random.choice(test_data.keys())\n",
    "print(j)"
   ]
  },
  {
   "cell_type": "code",
   "execution_count": 12,
   "metadata": {
    "collapsed": false
   },
   "outputs": [
    {
     "name": "stdout",
     "output_type": "stream",
     "text": [
      "Number of samples per train class: 20\n",
      "Number of samples per test class: 20\n"
     ]
    }
   ],
   "source": [
    "print('Number of samples per train class: %d'%len(train_data[i]))\n",
    "print('Number of samples per test class: %d'%len(test_data[j]))"
   ]
  },
  {
   "cell_type": "code",
   "execution_count": 13,
   "metadata": {
    "collapsed": false
   },
   "outputs": [
    {
     "name": "stdout",
     "output_type": "stream",
     "text": [
      "(784,)\n",
      "(28, 28)\n"
     ]
    },
    {
     "data": {
      "image/png": "[encoded data removed]",
      "text/plain": [
       "<matplotlib.figure.Figure at 0x7fd233466850>"
      ]
     },
     "metadata": {},
     "output_type": "display_data"
    }
   ],
   "source": [
    "IMAGE_NEW_SIZE = data_utils.IMAGE_NEW_SIZE\n",
    "\n",
    "for k in range(0,4):\n",
    "    train_sample=train_data[i][np.random.randint(len(train_data[i]))]\n",
    "    train_sample_img=np.reshape(train_sample,(IMAGE_NEW_SIZE,IMAGE_NEW_SIZE))\n",
    "    plt.subplot(2, 2, k+1)\n",
    "    plt.imshow(train_sample_img,cmap='gray')\n",
    "\n",
    "print(train_sample.shape)\n",
    "print(train_sample_img.shape)"
   ]
  },
  {
   "cell_type": "code",
   "execution_count": null,
   "metadata": {
    "collapsed": true
   },
   "outputs": [],
   "source": []
  },
  {
   "cell_type": "code",
   "execution_count": 3,
   "metadata": {
    "collapsed": true
   },
   "outputs": [],
   "source": [
    "def get_model(self):\n",
    "    # vocab size is the number of distinct values that\n",
    "    # could go into the memory key-value storage\n",
    "    vocab_size = self.episode_width * self.batch_size\n",
    "    return model.Model(\n",
    "        self.input_dim, self.output_dim, self.rep_dim, self.memory_size,\n",
    "        vocab_size, use_lsh=self.use_lsh)\n",
    "\n",
    "def compute_correct(self, ys, y_preds):\n",
    "    return np.mean(np.equal(y_preds, np.array(ys)))\n",
    "\n",
    "def individual_compute_correct(self, y, y_pred):\n",
    "    return y_pred == y"
   ]
  },
  {
   "cell_type": "code",
   "execution_count": 4,
   "metadata": {
    "collapsed": true
   },
   "outputs": [],
   "source": [
    "def sample_episode_batch(self, data,\n",
    "                           episode_length, episode_width, batch_size):\n",
    "    \"\"\"Generates a random batch for training or validation.\n",
    "\n",
    "    Structures each element of the batch as an 'episode'.\n",
    "    Each episode contains episode_length examples and\n",
    "    episode_width distinct labels.\n",
    "\n",
    "    Args:\n",
    "      data: A dictionary mapping label to list of examples.\n",
    "      episode_length: Number of examples in each episode.\n",
    "      episode_width: Distinct number of labels in each episode.\n",
    "      batch_size: Batch size (number of episodes).\n",
    "\n",
    "    Returns:\n",
    "      A tuple (x, y) where x is a list of batches of examples\n",
    "      with size episode_length and y is a list of batches of labels.\n",
    "    \"\"\"\n",
    "    episodes_x = [[] for _ in xrange(episode_length)]\n",
    "    episodes_y = [[] for _ in xrange(episode_length)]\n",
    "    assert len(data) >= episode_width\n",
    "    keys = data.keys()\n",
    "    for b in xrange(batch_size):\n",
    "        episode_labels = random.sample(keys, episode_width)\n",
    "        remainder = episode_length % episode_width\n",
    "        remainders = [0] * (episode_width - remainder) + [1] * remainder\n",
    "        episode_x = [random.sample(data[lab],\n",
    "                    r + (episode_length - remainder) / episode_width)\n",
    "                    for lab, r in zip(episode_labels, remainders)]\n",
    "        episode = sum([[(x, i, ii) for ii, x in enumerate(xx)]\n",
    "                for i, xx in enumerate(episode_x)], [])\n",
    "        random.shuffle(episode)\n",
    "        # Arrange episode so that each distinct label is seen before moving to\n",
    "        # 2nd showing\n",
    "        episode.sort(key=lambda elem: elem[2])\n",
    "        assert len(episode) == episode_length\n",
    "        for i in xrange(episode_length):\n",
    "            episodes_x[i].append(episode[i][0])\n",
    "            episodes_y[i].append(episode[i][1] + b * episode_width)\n",
    "\n",
    "    return ([np.array(xx).astype('float32') for xx in episodes_x],\n",
    "            [np.array(yy).astype('int32') for yy in episodes_y])"
   ]
  },
  {
   "cell_type": "code",
   "execution_count": 5,
   "metadata": {
    "collapsed": false
   },
   "outputs": [],
   "source": [
    "def run(self):\n",
    "    \"\"\"Performs training.\n",
    "\n",
    "    Trains a model using episodic training.\n",
    "    Every so often, runs some evaluations on validation data.\n",
    "    \"\"\"\n",
    "    train_data, valid_data = self.train_data, self.valid_data\n",
    "    input_dim, output_dim = self.input_dim, self.output_dim\n",
    "    rep_dim, episode_length = self.rep_dim, self.episode_length\n",
    "    episode_width, memory_size = self.episode_width, self.memory_size\n",
    "    batch_size = self.batch_size\n",
    "\n",
    "    train_size = len(train_data)\n",
    "    valid_size = len(valid_data)\n",
    "    print('train_size (number of labels) %d'%(train_size))\n",
    "    print('valid_size (number of labels) %d'%(valid_size))\n",
    "    print('input_dim %d'%(input_dim))\n",
    "    print('output_dim %d'%(output_dim))\n",
    "    print('rep_dim %d'%(rep_dim))\n",
    "    print('episode_length %d'%(episode_length))\n",
    "    print('episode_width %d'%(episode_width))\n",
    "    print('memory_size %d'%(memory_size))\n",
    "    print('batch_size %d'%(batch_size))\n",
    "\n",
    "    assert all(len(v) >= float(episode_length) / episode_width\n",
    "            for v in train_data.itervalues())\n",
    "    assert all(len(v) >= float(episode_length) / episode_width\n",
    "            for v in valid_data.itervalues())\n",
    "\n",
    "    output_dim = episode_width\n",
    "    self.model = self.get_model()\n",
    "    self.model.setup()\n",
    "\n",
    "    sess = tf.Session()\n",
    "    sess.run(tf.global_variables_initializer())\n",
    "\n",
    "    saver = tf.train.Saver(max_to_keep=10)\n",
    "    ckpt = None\n",
    "    if FLAGS.save_dir:\n",
    "        ckpt = tf.train.get_checkpoint_state(FLAGS.save_dir)\n",
    "    if ckpt and ckpt.model_checkpoint_path:\n",
    "        print('restoring from %s'%(ckpt.model_checkpoint_path))\n",
    "        saver.restore(sess, ckpt.model_checkpoint_path)\n",
    "\n",
    "    print('starting now')\n",
    "    losses = []\n",
    "    random.seed(FLAGS.seed)\n",
    "    np.random.seed(FLAGS.seed)\n",
    "    for i in xrange(FLAGS.num_episodes):\n",
    "        x, y = self.sample_episode_batch(\n",
    "        train_data, episode_length, episode_width, batch_size)\n",
    "        outputs = self.model.episode_step(sess, x, y, clear_memory=True)\n",
    "        loss = outputs\n",
    "        losses.append(loss)\n",
    "            \n",
    "        if i % FLAGS.validation_frequency == 0:\n",
    "            print('episode batch %d, avg train loss %f'%(i, np.mean(losses)))\n",
    "            losses = []\n",
    "\n",
    "            # validation\n",
    "            correct = []\n",
    "            correct_by_shot = dict((k, []) for k in xrange(self.episode_width + 1))\n",
    "            for _ in xrange(FLAGS.validation_length):\n",
    "                x, y = self.sample_episode_batch(\n",
    "                    valid_data, episode_length, episode_width, 1)\n",
    "                outputs = self.model.episode_predict(\n",
    "                    sess, x, y, clear_memory=True)\n",
    "                y_preds = outputs\n",
    "                correct.append(self.compute_correct(np.array(y), y_preds))\n",
    "\n",
    "            # compute per-shot accuracies\n",
    "            seen_counts = [[0] * episode_width for _ in xrange(batch_size)]\n",
    "            # loop over episode steps\n",
    "            for yy, yy_preds in zip(y, y_preds):\n",
    "            # loop over batch examples\n",
    "                for k, (yyy, yyy_preds) in enumerate(zip(yy, yy_preds)):\n",
    "                    yyy, yyy_preds = int(yyy), int(yyy_preds)\n",
    "                    count = seen_counts[k][yyy % self.episode_width]\n",
    "                    if count in correct_by_shot:\n",
    "                        correct_by_shot[count].append(\n",
    "                            self.individual_compute_correct(yyy, yyy_preds))\n",
    "                    seen_counts[k][yyy % self.episode_width] = count + 1\n",
    "\n",
    "        print('validation overall accuracy %f'%(np.mean(correct)))\n",
    "        print_list=sum([[k, np.mean(correct_by_shot[k])]\n",
    "               for k in xrange(self.episode_width + 1)], [])\n",
    "        print_str=''\n",
    "        xx=0\n",
    "        while xx < (len(print_list)):\n",
    "            print_str=print_str+('%d-shot: %.3f, '%(print_list[xx],print_list[xx+1]))\n",
    "            xx+=2\n",
    "        print(print_str)\n",
    "                \n",
    "        #print('%d-shot: %.3f, '.format(*self.episode_width + 1, \n",
    "        #      sum([[k, np.mean(correct_by_shot[k])]\n",
    "        #       for k in xrange(self.episode_width + 1)], [])))\n",
    "\n",
    "        if saver and FLAGS.save_dir:\n",
    "            saved_file = saver.save(sess,\n",
    "                        os.path.join(FLAGS.save_dir, 'model.ckpt'),\n",
    "                        global_step=self.model.global_step)\n",
    "            print('saved model to %s'%(saved_file))"
   ]
  },
  {
   "cell_type": "code",
   "execution_count": 6,
   "metadata": {
    "collapsed": false
   },
   "outputs": [],
   "source": [
    "class Trainer(object):\n",
    "    \"\"\"Class that takes care of training, validating, and checkpointing model.\"\"\"\n",
    "    def __init__(self, train_data, valid_data, input_dim, output_dim=None):\n",
    "        self.train_data = train_data\n",
    "        self.valid_data = valid_data\n",
    "        self.input_dim = input_dim\n",
    "\n",
    "        self.rep_dim = FLAGS.rep_dim\n",
    "        self.episode_length = FLAGS.episode_length\n",
    "        self.episode_width = FLAGS.episode_width\n",
    "        self.batch_size = FLAGS.batch_size\n",
    "        self.memory_size = (self.episode_length * self.batch_size\n",
    "                        if FLAGS.memory_size is None else FLAGS.memory_size)\n",
    "        self.use_lsh = FLAGS.use_lsh\n",
    "\n",
    "        self.output_dim = (output_dim if output_dim is not None\n",
    "                       else self.episode_width)\n",
    "        print('Class object created')\n",
    "\n",
    "Trainer.get_model=get_model\n",
    "Trainer.compute_correct=compute_correct\n",
    "Trainer.individual_compute_correct=individual_compute_correct\n",
    "Trainer.sample_episode_batch=sample_episode_batch\n",
    "Trainer.run=run"
   ]
  },
  {
   "cell_type": "code",
   "execution_count": 7,
   "metadata": {
    "collapsed": false
   },
   "outputs": [
    {
     "name": "stdout",
     "output_type": "stream",
     "text": [
      "Class object created\n"
     ]
    }
   ],
   "source": [
    "#logging.basicConfig(level=logging.DEBUG)\n",
    "train_data, valid_data = data_utils.get_data()\n",
    "trainer = Trainer(train_data, valid_data, data_utils.IMAGE_NEW_SIZE ** 2)"
   ]
  },
  {
   "cell_type": "code",
   "execution_count": 8,
   "metadata": {
    "collapsed": false
   },
   "outputs": [
    {
     "name": "stdout",
     "output_type": "stream",
     "text": [
      "train_size (number of labels) 3856\n",
      "valid_size (number of labels) 659\n",
      "input_dim 784\n",
      "output_dim 5\n",
      "rep_dim 128\n",
      "episode_length 30\n",
      "episode_width 5\n",
      "memory_size 8192\n",
      "batch_size 16\n",
      "starting now\n",
      "episode batch 0, avg train loss 0.274124\n",
      "validation overall accuracy 0.496667\n",
      "6\n",
      "[0, 0.0, 1, 0.59999999999999998, 2, 0.40000000000000002, 3, 0.80000000000000004, 4, 1.0, 5, 0.80000000000000004]\n",
      "0-shot: 0.000, 1-shot: 0.600, 2-shot: 0.400, 3-shot: 0.800, 4-shot: 1.000, 5-shot: 0.800, \n",
      "episode batch 1, avg train loss 0.225530\n",
      "validation overall accuracy 0.516000\n",
      "6\n",
      "[0, 0.0, 1, 0.80000000000000004, 2, 0.80000000000000004, 3, 1.0, 4, 1.0, 5, 0.80000000000000004]\n",
      "0-shot: 0.000, 1-shot: 0.800, 2-shot: 0.800, 3-shot: 1.000, 4-shot: 1.000, 5-shot: 0.800, \n",
      "episode batch 2, avg train loss 0.211496\n",
      "validation overall accuracy 0.490667\n",
      "6\n",
      "[0, 0.0, 1, 0.40000000000000002, 2, 0.59999999999999998, 3, 0.80000000000000004, 4, 0.59999999999999998, 5, 0.80000000000000004]\n",
      "0-shot: 0.000, 1-shot: 0.400, 2-shot: 0.600, 3-shot: 0.800, 4-shot: 0.600, 5-shot: 0.800, \n",
      "episode batch 3, avg train loss 0.198619\n",
      "validation overall accuracy 0.517333\n",
      "6\n",
      "[0, 0.0, 1, 0.40000000000000002, 2, 0.80000000000000004, 3, 0.59999999999999998, 4, 0.20000000000000001, 5, 0.80000000000000004]\n",
      "0-shot: 0.000, 1-shot: 0.400, 2-shot: 0.800, 3-shot: 0.600, 4-shot: 0.200, 5-shot: 0.800, \n",
      "episode batch 4, avg train loss 0.189792\n"
     ]
    },
    {
     "ename": "KeyboardInterrupt",
     "evalue": "",
     "output_type": "error",
     "traceback": [
      "\u001b[1;31m---------------------------------------------------------------------------\u001b[0m",
      "\u001b[1;31mKeyboardInterrupt\u001b[0m                         Traceback (most recent call last)",
      "\u001b[1;32m<ipython-input-8-3287ea1d3afc>\u001b[0m in \u001b[0;36m<module>\u001b[1;34m()\u001b[0m\n\u001b[1;32m----> 1\u001b[1;33m \u001b[0mtrainer\u001b[0m\u001b[1;33m.\u001b[0m\u001b[0mrun\u001b[0m\u001b[1;33m(\u001b[0m\u001b[1;33m)\u001b[0m\u001b[1;33m\u001b[0m\u001b[0m\n\u001b[0m",
      "\u001b[1;32m<ipython-input-5-43f7557eb8b7>\u001b[0m in \u001b[0;36mrun\u001b[1;34m(self)\u001b[0m\n\u001b[0;32m     65\u001b[0m                     valid_data, episode_length, episode_width, 1)\n\u001b[0;32m     66\u001b[0m                 outputs = self.model.episode_predict(\n\u001b[1;32m---> 67\u001b[1;33m                     sess, x, y, clear_memory=True)\n\u001b[0m\u001b[0;32m     68\u001b[0m                 \u001b[0my_preds\u001b[0m \u001b[1;33m=\u001b[0m \u001b[0moutputs\u001b[0m\u001b[1;33m\u001b[0m\u001b[0m\n\u001b[0;32m     69\u001b[0m                 \u001b[0mcorrect\u001b[0m\u001b[1;33m.\u001b[0m\u001b[0mappend\u001b[0m\u001b[1;33m(\u001b[0m\u001b[0mself\u001b[0m\u001b[1;33m.\u001b[0m\u001b[0mcompute_correct\u001b[0m\u001b[1;33m(\u001b[0m\u001b[0mnp\u001b[0m\u001b[1;33m.\u001b[0m\u001b[0marray\u001b[0m\u001b[1;33m(\u001b[0m\u001b[0my\u001b[0m\u001b[1;33m)\u001b[0m\u001b[1;33m,\u001b[0m \u001b[0my_preds\u001b[0m\u001b[1;33m)\u001b[0m\u001b[1;33m)\u001b[0m\u001b[1;33m\u001b[0m\u001b[0m\n",
      "\u001b[1;32m/home/himani/models/learning_to_remember_rare_events/model.pyc\u001b[0m in \u001b[0;36mepisode_predict\u001b[1;34m(self, sess, x, y, clear_memory)\u001b[0m\n\u001b[0;32m    294\u001b[0m     \u001b[0my_preds\u001b[0m \u001b[1;33m=\u001b[0m \u001b[1;33m[\u001b[0m\u001b[1;33m]\u001b[0m\u001b[1;33m\u001b[0m\u001b[0m\n\u001b[0;32m    295\u001b[0m     \u001b[1;32mfor\u001b[0m \u001b[0mxx\u001b[0m\u001b[1;33m,\u001b[0m \u001b[0myy\u001b[0m \u001b[1;32min\u001b[0m \u001b[0mzip\u001b[0m\u001b[1;33m(\u001b[0m\u001b[0mx\u001b[0m\u001b[1;33m,\u001b[0m \u001b[0my\u001b[0m\u001b[1;33m)\u001b[0m\u001b[1;33m:\u001b[0m\u001b[1;33m\u001b[0m\u001b[0m\n\u001b[1;32m--> 296\u001b[1;33m       \u001b[0mout\u001b[0m \u001b[1;33m=\u001b[0m \u001b[0msess\u001b[0m\u001b[1;33m.\u001b[0m\u001b[0mrun\u001b[0m\u001b[1;33m(\u001b[0m\u001b[0moutputs\u001b[0m\u001b[1;33m,\u001b[0m \u001b[0mfeed_dict\u001b[0m\u001b[1;33m=\u001b[0m\u001b[1;33m{\u001b[0m\u001b[0mself\u001b[0m\u001b[1;33m.\u001b[0m\u001b[0mx\u001b[0m\u001b[1;33m:\u001b[0m \u001b[0mxx\u001b[0m\u001b[1;33m,\u001b[0m \u001b[0mself\u001b[0m\u001b[1;33m.\u001b[0m\u001b[0my\u001b[0m\u001b[1;33m:\u001b[0m \u001b[0myy\u001b[0m\u001b[1;33m}\u001b[0m\u001b[1;33m)\u001b[0m\u001b[1;33m\u001b[0m\u001b[0m\n\u001b[0m\u001b[0;32m    297\u001b[0m       \u001b[0my_pred\u001b[0m \u001b[1;33m=\u001b[0m \u001b[0mout\u001b[0m\u001b[1;33m[\u001b[0m\u001b[1;36m0\u001b[0m\u001b[1;33m]\u001b[0m\u001b[1;33m\u001b[0m\u001b[0m\n\u001b[0;32m    298\u001b[0m       \u001b[0my_preds\u001b[0m\u001b[1;33m.\u001b[0m\u001b[0mappend\u001b[0m\u001b[1;33m(\u001b[0m\u001b[0my_pred\u001b[0m\u001b[1;33m)\u001b[0m\u001b[1;33m\u001b[0m\u001b[0m\n",
      "\u001b[1;32m/home/himani/virtual-env/env_tf/local/lib/python2.7/site-packages/tensorflow/python/client/session.pyc\u001b[0m in \u001b[0;36mrun\u001b[1;34m(self, fetches, feed_dict, options, run_metadata)\u001b[0m\n\u001b[0;32m    893\u001b[0m     \u001b[1;32mtry\u001b[0m\u001b[1;33m:\u001b[0m\u001b[1;33m\u001b[0m\u001b[0m\n\u001b[0;32m    894\u001b[0m       result = self._run(None, fetches, feed_dict, options_ptr,\n\u001b[1;32m--> 895\u001b[1;33m                          run_metadata_ptr)\n\u001b[0m\u001b[0;32m    896\u001b[0m       \u001b[1;32mif\u001b[0m \u001b[0mrun_metadata\u001b[0m\u001b[1;33m:\u001b[0m\u001b[1;33m\u001b[0m\u001b[0m\n\u001b[0;32m    897\u001b[0m         \u001b[0mproto_data\u001b[0m \u001b[1;33m=\u001b[0m \u001b[0mtf_session\u001b[0m\u001b[1;33m.\u001b[0m\u001b[0mTF_GetBuffer\u001b[0m\u001b[1;33m(\u001b[0m\u001b[0mrun_metadata_ptr\u001b[0m\u001b[1;33m)\u001b[0m\u001b[1;33m\u001b[0m\u001b[0m\n",
      "\u001b[1;32m/home/himani/virtual-env/env_tf/local/lib/python2.7/site-packages/tensorflow/python/client/session.pyc\u001b[0m in \u001b[0;36m_run\u001b[1;34m(self, handle, fetches, feed_dict, options, run_metadata)\u001b[0m\n\u001b[0;32m   1122\u001b[0m     \u001b[1;32mif\u001b[0m \u001b[0mfinal_fetches\u001b[0m \u001b[1;32mor\u001b[0m \u001b[0mfinal_targets\u001b[0m \u001b[1;32mor\u001b[0m \u001b[1;33m(\u001b[0m\u001b[0mhandle\u001b[0m \u001b[1;32mand\u001b[0m \u001b[0mfeed_dict_tensor\u001b[0m\u001b[1;33m)\u001b[0m\u001b[1;33m:\u001b[0m\u001b[1;33m\u001b[0m\u001b[0m\n\u001b[0;32m   1123\u001b[0m       results = self._do_run(handle, final_targets, final_fetches,\n\u001b[1;32m-> 1124\u001b[1;33m                              feed_dict_tensor, options, run_metadata)\n\u001b[0m\u001b[0;32m   1125\u001b[0m     \u001b[1;32melse\u001b[0m\u001b[1;33m:\u001b[0m\u001b[1;33m\u001b[0m\u001b[0m\n\u001b[0;32m   1126\u001b[0m       \u001b[0mresults\u001b[0m \u001b[1;33m=\u001b[0m \u001b[1;33m[\u001b[0m\u001b[1;33m]\u001b[0m\u001b[1;33m\u001b[0m\u001b[0m\n",
      "\u001b[1;32m/home/himani/virtual-env/env_tf/local/lib/python2.7/site-packages/tensorflow/python/client/session.pyc\u001b[0m in \u001b[0;36m_do_run\u001b[1;34m(self, handle, target_list, fetch_list, feed_dict, options, run_metadata)\u001b[0m\n\u001b[0;32m   1319\u001b[0m     \u001b[1;32mif\u001b[0m \u001b[0mhandle\u001b[0m \u001b[1;32mis\u001b[0m \u001b[0mNone\u001b[0m\u001b[1;33m:\u001b[0m\u001b[1;33m\u001b[0m\u001b[0m\n\u001b[0;32m   1320\u001b[0m       return self._do_call(_run_fn, self._session, feeds, fetches, targets,\n\u001b[1;32m-> 1321\u001b[1;33m                            options, run_metadata)\n\u001b[0m\u001b[0;32m   1322\u001b[0m     \u001b[1;32melse\u001b[0m\u001b[1;33m:\u001b[0m\u001b[1;33m\u001b[0m\u001b[0m\n\u001b[0;32m   1323\u001b[0m       \u001b[1;32mreturn\u001b[0m \u001b[0mself\u001b[0m\u001b[1;33m.\u001b[0m\u001b[0m_do_call\u001b[0m\u001b[1;33m(\u001b[0m\u001b[0m_prun_fn\u001b[0m\u001b[1;33m,\u001b[0m \u001b[0mself\u001b[0m\u001b[1;33m.\u001b[0m\u001b[0m_session\u001b[0m\u001b[1;33m,\u001b[0m \u001b[0mhandle\u001b[0m\u001b[1;33m,\u001b[0m \u001b[0mfeeds\u001b[0m\u001b[1;33m,\u001b[0m \u001b[0mfetches\u001b[0m\u001b[1;33m)\u001b[0m\u001b[1;33m\u001b[0m\u001b[0m\n",
      "\u001b[1;32m/home/himani/virtual-env/env_tf/local/lib/python2.7/site-packages/tensorflow/python/client/session.pyc\u001b[0m in \u001b[0;36m_do_call\u001b[1;34m(self, fn, *args)\u001b[0m\n\u001b[0;32m   1325\u001b[0m   \u001b[1;32mdef\u001b[0m \u001b[0m_do_call\u001b[0m\u001b[1;33m(\u001b[0m\u001b[0mself\u001b[0m\u001b[1;33m,\u001b[0m \u001b[0mfn\u001b[0m\u001b[1;33m,\u001b[0m \u001b[1;33m*\u001b[0m\u001b[0margs\u001b[0m\u001b[1;33m)\u001b[0m\u001b[1;33m:\u001b[0m\u001b[1;33m\u001b[0m\u001b[0m\n\u001b[0;32m   1326\u001b[0m     \u001b[1;32mtry\u001b[0m\u001b[1;33m:\u001b[0m\u001b[1;33m\u001b[0m\u001b[0m\n\u001b[1;32m-> 1327\u001b[1;33m       \u001b[1;32mreturn\u001b[0m \u001b[0mfn\u001b[0m\u001b[1;33m(\u001b[0m\u001b[1;33m*\u001b[0m\u001b[0margs\u001b[0m\u001b[1;33m)\u001b[0m\u001b[1;33m\u001b[0m\u001b[0m\n\u001b[0m\u001b[0;32m   1328\u001b[0m     \u001b[1;32mexcept\u001b[0m \u001b[0merrors\u001b[0m\u001b[1;33m.\u001b[0m\u001b[0mOpError\u001b[0m \u001b[1;32mas\u001b[0m \u001b[0me\u001b[0m\u001b[1;33m:\u001b[0m\u001b[1;33m\u001b[0m\u001b[0m\n\u001b[0;32m   1329\u001b[0m       \u001b[0mmessage\u001b[0m \u001b[1;33m=\u001b[0m \u001b[0mcompat\u001b[0m\u001b[1;33m.\u001b[0m\u001b[0mas_text\u001b[0m\u001b[1;33m(\u001b[0m\u001b[0me\u001b[0m\u001b[1;33m.\u001b[0m\u001b[0mmessage\u001b[0m\u001b[1;33m)\u001b[0m\u001b[1;33m\u001b[0m\u001b[0m\n",
      "\u001b[1;32m/home/himani/virtual-env/env_tf/local/lib/python2.7/site-packages/tensorflow/python/client/session.pyc\u001b[0m in \u001b[0;36m_run_fn\u001b[1;34m(session, feed_dict, fetch_list, target_list, options, run_metadata)\u001b[0m\n\u001b[0;32m   1304\u001b[0m           return tf_session.TF_Run(session, options,\n\u001b[0;32m   1305\u001b[0m                                    \u001b[0mfeed_dict\u001b[0m\u001b[1;33m,\u001b[0m \u001b[0mfetch_list\u001b[0m\u001b[1;33m,\u001b[0m \u001b[0mtarget_list\u001b[0m\u001b[1;33m,\u001b[0m\u001b[1;33m\u001b[0m\u001b[0m\n\u001b[1;32m-> 1306\u001b[1;33m                                    status, run_metadata)\n\u001b[0m\u001b[0;32m   1307\u001b[0m \u001b[1;33m\u001b[0m\u001b[0m\n\u001b[0;32m   1308\u001b[0m     \u001b[1;32mdef\u001b[0m \u001b[0m_prun_fn\u001b[0m\u001b[1;33m(\u001b[0m\u001b[0msession\u001b[0m\u001b[1;33m,\u001b[0m \u001b[0mhandle\u001b[0m\u001b[1;33m,\u001b[0m \u001b[0mfeed_dict\u001b[0m\u001b[1;33m,\u001b[0m \u001b[0mfetch_list\u001b[0m\u001b[1;33m)\u001b[0m\u001b[1;33m:\u001b[0m\u001b[1;33m\u001b[0m\u001b[0m\n",
      "\u001b[1;31mKeyboardInterrupt\u001b[0m: "
     ]
    }
   ],
   "source": [
    "trainer.run()"
   ]
  }
 ],
 "metadata": {
  "kernelspec": {
   "display_name": "Python 2",
   "language": "python",
   "name": "env_tf"
  },
  "language_info": {
   "codemirror_mode": {
    "name": "ipython",
    "version": 2
   },
   "file_extension": ".py",
   "mimetype": "text/x-python",
   "name": "python",
   "nbconvert_exporter": "python",
   "pygments_lexer": "ipython2",
   "version": "2.7.6"
  }
 },
 "nbformat": 4,
 "nbformat_minor": 0
}
